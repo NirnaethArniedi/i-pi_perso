{
 "cells": [
  {
   "cell_type": "code",
   "execution_count": 1,
   "metadata": {
    "ExecuteTime": {
     "end_time": "2017-03-22T10:29:56.778777",
     "start_time": "2017-03-22T10:29:56.056718"
    },
    "collapsed": false,
    "deletable": true,
    "editable": true
   },
   "outputs": [],
   "source": [
    "import pandas as pd\n",
    "import matplotlib\n",
    "matplotlib.use('Agg')\n",
    "import matplotlib.pyplot as plt\n",
    "import numpy as np\n",
    "import os\n",
    "import re\n",
    "%matplotlib inline"
   ]
  },
  {
   "cell_type": "code",
   "execution_count": 8,
   "metadata": {
    "ExecuteTime": {
     "end_time": "2017-03-22T10:29:58.126324",
     "start_time": "2017-03-22T10:29:58.121272"
    },
    "collapsed": false,
    "deletable": true,
    "editable": true
   },
   "outputs": [],
   "source": [
    "class D(dict):\n",
    "    def __missing__(self, key):\n",
    "        self[key] = D()\n",
    "        return self[key]"
   ]
  },
  {
   "cell_type": "code",
   "execution_count": 9,
   "metadata": {
    "ExecuteTime": {
     "end_time": "2017-03-22T10:30:00.605430",
     "start_time": "2017-03-22T10:30:00.564378"
    },
    "collapsed": false,
    "deletable": true,
    "editable": true
   },
   "outputs": [],
   "source": [
    "dictData = D()\n",
    "for d, s, fi in os.walk('.'):\n",
    "    for name in fi:\n",
    "        if 'out' in name:\n",
    "            filename = os.path.join(d, name)\n",
    "            splitName = filename.split('/')\n",
    "            if 'h2o' in splitName[1]:\n",
    "                if 'forcesDiff' in splitName[-1]:\n",
    "                    dictData['h2o'][splitName[2]]['forces'] = pd.read_csv(\n",
    "                        filename, header=None)\n",
    "                elif 'energyDiff' in splitName[-1]:\n",
    "                    dictData['h2o'][splitName[2]]['energy'] = pd.read_csv(\n",
    "                        filename, header=None)\n",
    "\n",
    "            else:\n",
    "                if 'forcesDiff' in splitName[-1]:\n",
    "                    dictData['paracetamol'][splitName[2]][\n",
    "                        'forces'] = pd.read_csv(filename, header=None)\n",
    "                elif 'energyDiff' in splitName[-1]:\n",
    "                    dictData['paracetamol'][splitName[2]][\n",
    "                        'energy'] = pd.read_csv(filename, header=None)"
   ]
  },
  {
   "cell_type": "code",
   "execution_count": 11,
   "metadata": {
    "ExecuteTime": {
     "end_time": "2017-03-22T10:38:05.890621",
     "start_time": "2017-03-22T10:38:05.034740"
    },
    "collapsed": false,
    "deletable": true,
    "editable": true,
    "scrolled": true
   },
   "outputs": [
    {
     "ename": "TypeError",
     "evalue": "only length-1 arrays can be converted to Python scalars",
     "output_type": "error",
     "traceback": [
      "\u001b[0;31m---------------------------------------------------------------------------\u001b[0m",
      "\u001b[0;31mTypeError\u001b[0m                                 Traceback (most recent call last)",
      "\u001b[0;32m<ipython-input-11-d420f124b645>\u001b[0m in \u001b[0;36m<module>\u001b[0;34m()\u001b[0m\n\u001b[1;32m     15\u001b[0m         \u001b[0ma\u001b[0m \u001b[0;34m=\u001b[0m \u001b[0maxes\u001b[0m\u001b[0;34m[\u001b[0m\u001b[0mkey\u001b[0m\u001b[0;34m]\u001b[0m\u001b[0;34m\u001b[0m\u001b[0m\n\u001b[1;32m     16\u001b[0m         \u001b[0mdata\u001b[0m \u001b[0;34m=\u001b[0m \u001b[0mdictData\u001b[0m\u001b[0;34m[\u001b[0m\u001b[0mmolecule\u001b[0m\u001b[0;34m]\u001b[0m\u001b[0;34m[\u001b[0m\u001b[0mmethod\u001b[0m\u001b[0;34m]\u001b[0m\u001b[0;34m\u001b[0m\u001b[0m\n\u001b[0;32m---> 17\u001b[0;31m         \u001b[0ma\u001b[0m\u001b[0;34m.\u001b[0m\u001b[0mplot\u001b[0m\u001b[0;34m(\u001b[0m\u001b[0mdata\u001b[0m\u001b[0;34m[\u001b[0m\u001b[0;34m'energy'\u001b[0m\u001b[0;34m]\u001b[0m\u001b[0;34m.\u001b[0m\u001b[0mindex\u001b[0m\u001b[0;34m,\u001b[0m \u001b[0mfloat\u001b[0m\u001b[0;34m(\u001b[0m\u001b[0mdata\u001b[0m\u001b[0;34m[\u001b[0m\u001b[0;34m'energy'\u001b[0m\u001b[0;34m]\u001b[0m\u001b[0;34m.\u001b[0m\u001b[0mvalues\u001b[0m\u001b[0;34m)\u001b[0m\u001b[0;34m,\u001b[0m \u001b[0;34m'b'\u001b[0m\u001b[0;34m)\u001b[0m\u001b[0;34m\u001b[0m\u001b[0m\n\u001b[0m\u001b[1;32m     18\u001b[0m         \u001b[0ma\u001b[0m\u001b[0;34m.\u001b[0m\u001b[0mtick_params\u001b[0m\u001b[0;34m(\u001b[0m\u001b[0;34m'y'\u001b[0m\u001b[0;34m,\u001b[0m \u001b[0mcolors\u001b[0m\u001b[0;34m=\u001b[0m\u001b[0;34m'b'\u001b[0m\u001b[0;34m)\u001b[0m\u001b[0;34m\u001b[0m\u001b[0m\n\u001b[1;32m     19\u001b[0m \u001b[0;34m\u001b[0m\u001b[0m\n",
      "\u001b[0;31mTypeError\u001b[0m: only length-1 arrays can be converted to Python scalars"
     ]
    },
    {
     "data": {
      "image/png": "[encoded data removed]",
      "text/plain": [
       "<matplotlib.figure.Figure at 0x7fa8036ff210>"
      ]
     },
     "metadata": {},
     "output_type": "display_data"
    },
    {
     "data": {
      "text/plain": [
       "<matplotlib.figure.Figure at 0x7fa8036ff190>"
      ]
     },
     "metadata": {},
     "output_type": "display_data"
    }
   ],
   "source": [
    "plt.close('all')\n",
    "h2o = plt.figure(figsize=(12, 6))\n",
    "paracetamol = plt.figure(figsize=(12, 6))\n",
    "figures = {'h2o': h2o, 'paracetamol': paracetamol}\n",
    "axes = {}\n",
    "for molecule in dictData.keys():\n",
    "    k = 0\n",
    "    for method in dictData[molecule].keys():\n",
    "        k += 1\n",
    "        key = molecule + str(k)\n",
    "        if k == 1:\n",
    "            axes[key] = figures[molecule].add_subplot(1, 4, k)\n",
    "        else:\n",
    "            axes[key] = figures[molecule].add_subplot(1, 4, k)\n",
    "        a = axes[key]\n",
    "        data = dictData[molecule][method]\n",
    "        a.plot(data['energy'].index, float(data['energy'].values), 'b')\n",
    "        a.tick_params('y', colors='b')\n",
    "\n",
    "        b = a.twinx()\n",
    "        b.plot(data['forces'].index, data['forces'].values, 'r')\n",
    "        b.tick_params('y', colors='r')\n",
    "\n",
    "        a.set_title(molecule + ' ' + method)\n",
    "        a.set_xlabel('I-Pi steps')\n",
    "        # a.set_yscale('log')\n",
    "        # a.set_xscale('log')\n",
    "        if k == 1:\n",
    "            a.set_ylabel('potential energy difference (a.u)' if\n",
    "                         molecule == 'h2o' else 'potential energy (eV)', 'b')\n",
    "        elif k == 5:\n",
    "            b.set_ylabel('forces', 'r')"
   ]
  },
  {
   "cell_type": "code",
   "execution_count": null,
   "metadata": {
    "collapsed": false,
    "deletable": true,
    "editable": true
   },
   "outputs": [],
   "source": [
    "plt.close('all')"
   ]
  },
  {
   "cell_type": "code",
   "execution_count": null,
   "metadata": {
    "collapsed": false,
    "deletable": true,
    "editable": true
   },
   "outputs": [],
   "source": [
    "truc = dictData['paracetamol']['bfgs'].diff().dropna()\n",
    "truc = truc[truc != 0].dropna()"
   ]
  },
  {
   "cell_type": "code",
   "execution_count": 2,
   "metadata": {
    "collapsed": false,
    "deletable": true,
    "editable": true,
    "scrolled": true
   },
   "outputs": [],
   "source": [
    "data = pd.read_csv('./h2o-geop/cg/simu_forcesDiff.out',header=None)"
   ]
  },
  {
   "cell_type": "code",
   "execution_count": 13,
   "metadata": {
    "collapsed": false,
    "deletable": true,
    "editable": true
   },
   "outputs": [
    {
     "data": {
      "text/plain": [
       "{'bfgs': {'energy':     0\n",
       "  0   [\n",
       "  1   [\n",
       "  2   [\n",
       "  3   [\n",
       "  4   [\n",
       "  5   [\n",
       "  6   [\n",
       "  7   [\n",
       "  8   [\n",
       "  9   [\n",
       "  10  [, 'forces':                0\n",
       "  0   1.002903e-01\n",
       "  1   3.190843e-02\n",
       "  2   3.159797e-03\n",
       "  3   3.701226e-04\n",
       "  4   9.418020e-04\n",
       "  5   3.011752e-04\n",
       "  6   7.308820e-05\n",
       "  7   4.116175e-07\n",
       "  8   1.463066e-06\n",
       "  9   3.882265e-08\n",
       "  10  7.633049e-10}, 'bfgstrm': {'energy':    0\n",
       "  0  [\n",
       "  1  [\n",
       "  2  [\n",
       "  3  [\n",
       "  4  [\n",
       "  5  [\n",
       "  6  [\n",
       "  7  [\n",
       "  8  [\n",
       "  9  [, 'forces':               0\n",
       "  0  6.856447e-02\n",
       "  1  2.845831e-03\n",
       "  2  8.819654e-04\n",
       "  3  7.746632e-04\n",
       "  4  6.060400e-04\n",
       "  5  3.816661e-04\n",
       "  6  6.453234e-05\n",
       "  7  3.830246e-06\n",
       "  8  1.756646e-07\n",
       "  9  7.784456e-09}, 'cg': {'energy':               0\n",
       "  0  6.607240e-04\n",
       "  1  2.880719e-06\n",
       "  2  1.137855e-08\n",
       "  3  3.578202e-12, 'forces':               0\n",
       "  0  6.545105e-02\n",
       "  1  1.608057e-03\n",
       "  2  2.595622e-04\n",
       "  3  2.096490e-09}, 'sd': {'energy':                 0\n",
       "  0    6.607240e-04\n",
       "  1    2.891990e-06\n",
       "  2    9.097297e-12\n",
       "  3    5.258756e-14\n",
       "  4    8.942221e-11\n",
       "  5    7.783189e-11\n",
       "  6    5.257831e-14\n",
       "  7    8.942218e-11\n",
       "  8    7.854031e-11\n",
       "  9    5.258756e-14\n",
       "  10   8.936388e-11\n",
       "  11   1.030012e-10\n",
       "  12   5.240252e-14\n",
       "  13   8.942246e-11\n",
       "  14   8.702715e-11\n",
       "  15   5.235627e-14\n",
       "  16   8.942258e-11\n",
       "  17   8.762407e-11\n",
       "  18   5.218048e-14\n",
       "  19   8.936497e-11\n",
       "  20   9.206503e-11\n",
       "  21   5.207871e-14\n",
       "  22   8.942299e-11\n",
       "  23   9.412579e-11\n",
       "  24   5.196769e-14\n",
       "  25   8.942323e-11\n",
       "  26   9.232001e-11\n",
       "  27   5.181041e-14\n",
       "  28   8.415065e-11\n",
       "  29   4.235861e-12\n",
       "  ..            ...\n",
       "  970  4.677018e-12\n",
       "  971  1.294340e-11\n",
       "  972  5.235627e-13\n",
       "  973  4.435526e-13\n",
       "  974  4.468224e-11\n",
       "  975  1.409493e-12\n",
       "  976  2.280491e-13\n",
       "  977  4.465740e-11\n",
       "  978  1.270585e-10\n",
       "  979  3.464229e-12\n",
       "  980  5.605238e-13\n",
       "  981  4.748794e-13\n",
       "  982  7.683668e-14\n",
       "  983  4.463626e-11\n",
       "  984  1.417542e-12\n",
       "  985  2.293721e-13\n",
       "  986  4.465687e-11\n",
       "  987  7.615354e-11\n",
       "  988  1.317331e-11\n",
       "  989  1.065722e-12\n",
       "  990  9.028981e-13\n",
       "  991  7.304342e-14\n",
       "  992  4.464208e-11\n",
       "  993  1.347607e-12\n",
       "  994  2.180385e-13\n",
       "  995  4.456929e-11\n",
       "  996  4.204830e-11\n",
       "  997  3.401566e-12\n",
       "  998  1.440912e-12\n",
       "  999  2.331468e-13\n",
       "  \n",
       "  [1000 rows x 1 columns], 'forces':             0\n",
       "  0    0.001585\n",
       "  1    0.000006\n",
       "  2    0.000006\n",
       "  3    0.000006\n",
       "  4    0.000006\n",
       "  5    0.000006\n",
       "  6    0.000006\n",
       "  7    0.000006\n",
       "  8    0.000006\n",
       "  9    0.000006\n",
       "  10   0.000006\n",
       "  11   0.000005\n",
       "  12   0.000005\n",
       "  13   0.000005\n",
       "  14   0.000005\n",
       "  15   0.000005\n",
       "  16   0.000005\n",
       "  17   0.000004\n",
       "  18   0.000004\n",
       "  19   0.000004\n",
       "  20   0.000004\n",
       "  21   0.000004\n",
       "  22   0.000004\n",
       "  23   0.000004\n",
       "  24   0.000004\n",
       "  25   0.000004\n",
       "  26   0.000004\n",
       "  27   0.000004\n",
       "  28   0.000004\n",
       "  29   0.000004\n",
       "  ..        ...\n",
       "  970  0.000026\n",
       "  971  0.000026\n",
       "  972  0.000026\n",
       "  973  0.000026\n",
       "  974  0.000026\n",
       "  975  0.000026\n",
       "  976  0.000026\n",
       "  977  0.000026\n",
       "  978  0.000026\n",
       "  979  0.000026\n",
       "  980  0.000026\n",
       "  981  0.000026\n",
       "  982  0.000026\n",
       "  983  0.000026\n",
       "  984  0.000026\n",
       "  985  0.000026\n",
       "  986  0.000026\n",
       "  987  0.000026\n",
       "  988  0.000026\n",
       "  989  0.000026\n",
       "  990  0.000026\n",
       "  991  0.000026\n",
       "  992  0.000026\n",
       "  993  0.000026\n",
       "  994  0.000026\n",
       "  995  0.000026\n",
       "  996  0.000026\n",
       "  997  0.000026\n",
       "  998  0.000026\n",
       "  999  0.000026\n",
       "  \n",
       "  [1000 rows x 1 columns]}}"
      ]
     },
     "execution_count": 13,
     "metadata": {},
     "output_type": "execute_result"
    }
   ],
   "source": [
    "dictData['h2o']"
   ]
  },
  {
   "cell_type": "code",
   "execution_count": null,
   "metadata": {
    "collapsed": false,
    "deletable": true,
    "editable": true
   },
   "outputs": [],
   "source": [
    "lmpCall = int(subprocess.check_output('tail -2 ./h2o-geop/cg/lmp.out | head -1',shell=True).split('IPI')[1][:-1])\n",
    "ipiResult = subprocess.check_output(\"tail -1 ./h2o-geop/cg/simulation_cg.out\",shell=True).split()\n",
    "ipiCall = float(ipiResult[0])\n",
    "print 'ipiCall =', ipiCall\n",
    "print 'lmpCall =', lmpCall\n",
    "print 'ratio =', lmpCall/ipiCall\n",
    "print 'final energy =', float(ipiResult[1])\n"
   ]
  },
  {
   "cell_type": "code",
   "execution_count": null,
   "metadata": {
    "collapsed": false,
    "deletable": true,
    "editable": true
   },
   "outputs": [],
   "source": [
    "ipiCall = subprocess.check_output(\"tail -1 ./h2o-geop/cg/simulation_cg.out\",shell=True).split()"
   ]
  },
  {
   "cell_type": "code",
   "execution_count": null,
   "metadata": {
    "collapsed": false,
    "deletable": true,
    "editable": true
   },
   "outputs": [],
   "source": [
    "ipiCall"
   ]
  },
  {
   "cell_type": "code",
   "execution_count": null,
   "metadata": {
    "collapsed": false,
    "deletable": true,
    "editable": true
   },
   "outputs": [],
   "source": [
    "subprocess.check_output('head ./h2o-geop/cg/simulation_cg.out',shell=True)"
   ]
  },
  {
   "cell_type": "code",
   "execution_count": null,
   "metadata": {
    "collapsed": true,
    "deletable": true,
    "editable": true
   },
   "outputs": [],
   "source": [
    "import os"
   ]
  },
  {
   "cell_type": "code",
   "execution_count": null,
   "metadata": {
    "collapsed": false
   },
   "outputs": [],
   "source": [
    "os.environ['DISPLAY']"
   ]
  },
  {
   "cell_type": "code",
   "execution_count": null,
   "metadata": {
    "collapsed": true
   },
   "outputs": [],
   "source": []
  }
 ],
 "metadata": {
  "anaconda-cloud": {},
  "kernelspec": {
   "display_name": "Python 2",
   "language": "python",
   "name": "python2"
  },
  "language_info": {
   "codemirror_mode": {
    "name": "ipython",
    "version": 2
   },
   "file_extension": ".py",
   "mimetype": "text/x-python",
   "name": "python",
   "nbconvert_exporter": "python",
   "pygments_lexer": "ipython2",
   "version": "2.7.12+"
  },
  "latex_envs": {
   "LaTeX_envs_menu_present": true,
   "bibliofile": "biblio.bib",
   "cite_by": "apalike",
   "current_citInitial": 1,
   "eqLabelWithNumbers": true,
   "eqNumInitial": 1,
   "hotkeys": {
    "equation": "Ctrl-E",
    "itemize": "Ctrl-I"
   },
   "labels_anchors": false,
   "latex_user_defs": false,
   "report_style_numbering": false,
   "user_envs_cfg": false
  }
 },
 "nbformat": 4,
 "nbformat_minor": 1
}
