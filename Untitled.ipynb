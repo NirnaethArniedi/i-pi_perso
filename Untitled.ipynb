{
 "cells": [
  {
   "cell_type": "code",
   "execution_count": 1,
   "metadata": {
    "collapsed": true,
    "deletable": true,
    "editable": true
   },
   "outputs": [],
   "source": [
    "import xml.etree.ElementTree as ET\n",
    "import subprocess\n",
    "import os"
   ]
  },
  {
   "cell_type": "code",
   "execution_count": 2,
   "metadata": {
    "collapsed": true,
    "deletable": true,
    "editable": true
   },
   "outputs": [],
   "source": [
    "listMethod = ['bfgs', 'bfgstrm','lbfgs']\n",
    "listMol = ['h2o', 'paracetamol']\n",
    "root = '/home/gorg/i-pi-dev/'\n",
    "examplesFolder = root + 'examples/lammps/'\n",
    "outputFolder = root + 'augustinFolder/'\n",
    "binFolder = root + 'bin/'\n",
    "lammps = '/home/gorg/lammps/src/lmp_serial'"
   ]
  },
  {
   "cell_type": "code",
   "execution_count": 6,
   "metadata": {
    "collapsed": false,
    "deletable": true,
    "editable": true
   },
   "outputs": [],
   "source": [
    "for mol in ['paracetamol']:\n",
    "    for method in ['sd']:\n",
    "        workDir = examplesFolder + mol + '-geop/'\n",
    "        exportDir = outputFolder + mol +'-geop/' + method + '/'\n",
    "        try: \n",
    "            os.makedirs(exportDir)\n",
    "        except OSError:\n",
    "            if not os.path.isdir(exportDir):\n",
    "                raise\n",
    "\n",
    "        tree = ET.parse(workDir + 'input.xml')\n",
    "        root = tree.getroot()\n",
    "        root.find('system').find('motion').find('optimizer').attrib[\n",
    "            'mode'] = method\n",
    "        root.find('output').attrib['prefix'] = 'simulation_' + method\n",
    "        tree.write(workDir+'input_' + method + '.xml')\n",
    "\n",
    "        ipiCommand = binFolder + \"i-pi \" + workDir + \"input_\" + method + \".xml > \" + workDir + \"i-pi.out\"\n",
    "        lmpCommand = lammps + \" < \" + workDir + \"in.lmp > \" + workDir + \"lmp.out\"\n",
    "\n",
    "        clean = 'rm -rf /tmp/ipi_driver'\n",
    "        subprocess.call(clean.split())\n",
    "        \n",
    "        ipiProc = subprocess.Popen(\n",
    "            ipiCommand, cwd=workDir, shell=True, close_fds=True)\n",
    "        wait = subprocess.Popen([\"sleep\", \"2\"])\n",
    "        wait.wait()\n",
    "        lmpProc = subprocess.Popen(\n",
    "            lmpCommand, cwd=workDir, shell=True, close_fds=True)\n",
    "        \n",
    "        lmpProc.wait()\n",
    "        wait1 = subprocess.Popen([\"sleep\", \"20\"])\n",
    "        wait1.wait()\n",
    "        ipiProc.terminate()\n",
    "        \n",
    "        stripCommand = binFolder + \"stripLog.sh \" + workDir + \"i-pi.out\"\n",
    "        stripProc = subprocess.Popen(stripCommand, shell=True, cwd=workDir)\n",
    "        stripProc.wait()\n",
    "        wait2 = subprocess.Popen([\"sleep\", \"30\"])\n",
    "        wait2.wait()\n",
    "        \n",
    "        subprocess.call('mv ' + workDir + '*.out ' + exportDir, shell=True)\n",
    "        subprocess.call('mv ' + workDir + 'simulation* ' + exportDir, shell=True)\n",
    "        subprocess.call('mv ' + workDir + 'input_' + method + '.xml ' + exportDir, shell=True)\n",
    "        subprocess.call('rm '+workDir+'RESTART',shell=True)"
   ]
  },
  {
   "cell_type": "code",
   "execution_count": null,
   "metadata": {
    "collapsed": true,
    "deletable": true,
    "editable": true
   },
   "outputs": [],
   "source": [
    "ipiProc.terminate()"
   ]
  },
  {
   "cell_type": "code",
   "execution_count": null,
   "metadata": {
    "collapsed": false,
    "deletable": true,
    "editable": true
   },
   "outputs": [],
   "source": [
    "subprocess.Popen(binFolder + \"stripLog.sh \" + workDir + \"i-pi.out\",shell=True)"
   ]
  },
  {
   "cell_type": "code",
   "execution_count": null,
   "metadata": {
    "collapsed": true,
    "deletable": true,
    "editable": true
   },
   "outputs": [],
   "source": []
  }
 ],
 "metadata": {
  "kernelspec": {
   "display_name": "Python 2",
   "language": "python",
   "name": "python2"
  },
  "language_info": {
   "codemirror_mode": {
    "name": "ipython",
    "version": 2
   },
   "file_extension": ".py",
   "mimetype": "text/x-python",
   "name": "python",
   "nbconvert_exporter": "python",
   "pygments_lexer": "ipython2",
   "version": "2.7.12+"
  }
 },
 "nbformat": 4,
 "nbformat_minor": 2
}
