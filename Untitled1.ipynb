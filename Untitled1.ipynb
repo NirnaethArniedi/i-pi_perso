{
 "cells": [
  {
   "cell_type": "code",
   "execution_count": 2,
   "metadata": {
    "collapsed": false
   },
   "outputs": [
    {
     "data": {
      "text/plain": [
       "{'LESS': '-R', 'LC_CTYPE': 'fr_CH.UTF-8', 'XDG_CURRENT_DESKTOP': 'KDE', 'XDG_SESSION_TYPE': 'x11', 'LOGNAME': 'gorg', 'USER': 'gorg', 'PATH': '/home/gorg/.virtualenvs/i-pi-dev/bin:/home/gorg/.virtualenvs/i-pi-dev/bin:/usr/local/sbin:/usr/local/bin:/usr/sbin:/usr/bin:/sbin:/bin:/usr/games:/usr/local/games', 'XDG_VTNR': '7', 'HOME': '/home/gorg', 'VIRTUALENVWRAPPER_SCRIPT': '/usr/local/bin/virtualenvwrapper.sh', 'PAM_KWALLET_LOGIN': '/tmp/kwallet_gorg.socket', 'KDE_SESSION_VERSION': '5', 'KDE_FULL_SESSION': 'true', 'LANG': 'fr_CH.UTF-8', 'PROFILEHOME': '', 'TERM': 'xterm-color', 'SHELL': '/usr/bin/zsh', 'COLORFGBG': '15;0', 'LANGUAGE': 'fr_CH:fr', 'SESSION_MANAGER': 'local/gorg-tower:@/tmp/.ICE-unix/1723,unix/gorg-tower:/tmp/.ICE-unix/1723', 'SHLVL': '2', 'QT_LINUX_ACCESSIBILITY_ALWAYS_ON': '1', 'MANDATORY_PATH': '/usr/share/gconf//usr/share/xsessions/plasma.mandatory.path', 'KONSOLE_PROFILE_NAME': 'Par d\\xc3\\xa9faut', 'SHELL_SESSION_ID': '270ec2a8c67c400093f560a61e0d9064', 'KONSOLE_DBUS_WINDOW': '/Windows/1', 'QT_ACCESSIBILITY': '1', '_VIRTUALENVWRAPPER_API': ' mkvirtualenv rmvirtualenv lsvirtualenv showvirtualenv workon add2virtualenv cdsitepackages cdvirtualenv lssitepackages toggleglobalsitepackages cpvirtualenv setvirtualenvproject mkproject cdproject mktmpenv wipeenv allvirtualenv mkvirtualenv rmvirtualenv lsvirtualenv showvirtualenv workon add2virtualenv cdsitepackages cdvirtualenv lssitepackages toggleglobalsitepackages cpvirtualenv setvirtualenvproject mkproject cdproject mktmpenv wipeenv allvirtualenv', 'KONSOLE_DBUS_SESSION': '/Sessions/1', 'QT_AUTO_SCREEN_SCALE_FACTOR': '0', 'WORKON_HOME': '/home/gorg/.virtualenvs', 'XDG_RUNTIME_DIR': '/run/user/1000', 'JPY_PARENT_PID': '2060', 'VIRTUALENVWRAPPER_HOOK_DIR': '/home/gorg/.virtualenvs', 'KDE_SESSION_UID': '1000', 'KONSOLE_DBUS_SERVICE': ':1.80', 'VIRTUAL_ENV': '/home/gorg/.virtualenvs/i-pi-dev', 'TMUX': '/tmp/tmux-1000/default,2686,0', 'PAM_KWALLET5_LOGIN': '/tmp/kwallet5_gorg.socket', 'PWD': '/home/gorg', 'AUTOJUMP_ERROR_PATH': '/home/gorg/.local/share/autojump/errors.log', 'PS1': '(i-pi-dev) ${ret_status} %{$fg[cyan]%}%c%{$reset_color%} $(git_prompt_info)', 'GIT_PAGER': 'cat', 'XDG_SEAT_PATH': '/org/freedesktop/DisplayManager/Seat0', 'XDG_SESSION_PATH': '/org/freedesktop/DisplayManager/Session1', 'XDG_SESSION_ID': '3', 'DBUS_SESSION_BUS_ADDRESS': 'unix:abstract=/tmp/dbus-PcCpVzTz53,guid=54b5eb4f9ab029e3646cef7058d2f56b', '_': '/home/gorg/.virtualenvs/i-pi-dev/bin/jupyter', 'AUTOJUMP_SOURCED': '1', 'VIRTUALENVWRAPPER_PROJECT_FILENAME': '.project', 'DESKTOP_SESSION': '/usr/share/xsessions/plasma', 'LSCOLORS': 'Gxfxcxdxbxegedabagacad', 'XDG_CONFIG_DIRS': '/etc/xdg/xdg-/usr/share/xsessions/plasma:/etc/xdg:/usr/share/kubuntu-default-settings/kf5-settings', 'DEFAULTS_PATH': '/usr/share/gconf//usr/share/xsessions/plasma.default.path', 'XCURSOR_THEME': 'breeze_cursors', 'MPLBACKEND': 'module://ipykernel.pylab.backend_inline', 'OLDPWD': '/home/gorg', 'ZSH': '/home/gorg/.oh-my-zsh', 'SSH_CONNECTION': '127.0.0.1 33260 127.0.0.1 22', 'CLICOLOR': '1', 'GS_LIB': '/home/gorg/.fonts', 'XDG_DATA_DIRS': '/usr/share//usr/share/xsessions/plasma:/usr/local/share/:/usr/share/:/var/lib/snapd/desktop', 'KDED_STARTED_BY_KDEINIT': '1', 'XDG_SESSION_CLASS': 'user', 'XDG_SESSION_DESKTOP': 'KDE', 'LS_COLORS': 'rs=0:di=01;34:ln=01;36:mh=00:pi=40;33:so=01;35:do=01;35:bd=40;33;01:cd=40;33;01:or=40;31;01:mi=00:su=37;41:sg=30;43:ca=30;41:tw=30;42:ow=34;42:st=37;44:ex=01;32:*.tar=01;31:*.tgz=01;31:*.arc=01;31:*.arj=01;31:*.taz=01;31:*.lha=01;31:*.lz4=01;31:*.lzh=01;31:*.lzma=01;31:*.tlz=01;31:*.txz=01;31:*.tzo=01;31:*.t7z=01;31:*.zip=01;31:*.z=01;31:*.Z=01;31:*.dz=01;31:*.gz=01;31:*.lrz=01;31:*.lz=01;31:*.lzo=01;31:*.xz=01;31:*.bz2=01;31:*.bz=01;31:*.tbz=01;31:*.tbz2=01;31:*.tz=01;31:*.deb=01;31:*.rpm=01;31:*.jar=01;31:*.war=01;31:*.ear=01;31:*.sar=01;31:*.rar=01;31:*.alz=01;31:*.ace=01;31:*.zoo=01;31:*.cpio=01;31:*.7z=01;31:*.rz=01;31:*.cab=01;31:*.jpg=01;35:*.jpeg=01;35:*.gif=01;35:*.bmp=01;35:*.pbm=01;35:*.pgm=01;35:*.ppm=01;35:*.tga=01;35:*.xbm=01;35:*.xpm=01;35:*.tif=01;35:*.tiff=01;35:*.png=01;35:*.svg=01;35:*.svgz=01;35:*.mng=01;35:*.pcx=01;35:*.mov=01;35:*.mpg=01;35:*.mpeg=01;35:*.m2v=01;35:*.mkv=01;35:*.webm=01;35:*.ogm=01;35:*.mp4=01;35:*.m4v=01;35:*.mp4v=01;35:*.vob=01;35:*.qt=01;35:*.nuv=01;35:*.wmv=01;35:*.asf=01;35:*.rm=01;35:*.rmvb=01;35:*.flc=01;35:*.avi=01;35:*.fli=01;35:*.flv=01;35:*.gl=01;35:*.dl=01;35:*.xcf=01;35:*.xwd=01;35:*.yuv=01;35:*.cgm=01;35:*.emf=01;35:*.ogv=01;35:*.ogx=01;35:*.aac=00;36:*.au=00;36:*.flac=00;36:*.m4a=00;36:*.mid=00;36:*.midi=00;36:*.mka=00;36:*.mp3=00;36:*.mpc=00;36:*.ogg=00;36:*.ra=00;36:*.wav=00;36:*.oga=00;36:*.opus=00;36:*.spx=00;36:*.xspf=00;36:', 'PAGER': 'cat', 'VIRTUALENVWRAPPER_WORKON_CD': '1', 'TMUX_PANE': '%12', 'XDG_SEAT': 'seat0'}"
      ]
     },
     "execution_count": 2,
     "metadata": {},
     "output_type": "execute_result"
    }
   ],
   "source": [
    "import os\n",
    "import matpl"
   ]
  },
  {
   "cell_type": "code",
   "execution_count": null,
   "metadata": {
    "collapsed": true
   },
   "outputs": [],
   "source": []
  }
 ],
 "metadata": {
  "kernelspec": {
   "display_name": "Python 2",
   "language": "python",
   "name": "python2"
  },
  "language_info": {
   "codemirror_mode": {
    "name": "ipython",
    "version": 2
   },
   "file_extension": ".py",
   "mimetype": "text/x-python",
   "name": "python",
   "nbconvert_exporter": "python",
   "pygments_lexer": "ipython2",
   "version": "2.7.12+"
  }
 },
 "nbformat": 4,
 "nbformat_minor": 2
}
